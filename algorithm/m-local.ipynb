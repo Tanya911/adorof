{
 "metadata": {
  "name": "",
  "signature": "sha256:94a0042f8e9eddcd200faf9b4dff8bffe5f7bd8732929260cd64ba30c03b656c"
 },
 "nbformat": 3,
 "nbformat_minor": 0,
 "worksheets": [
  {
   "cells": [
    {
     "cell_type": "code",
     "collapsed": false,
     "input": [
      "import m_local as algo"
     ],
     "language": "python",
     "metadata": {},
     "outputs": []
    },
    {
     "cell_type": "code",
     "collapsed": false,
     "input": [
      "import numpy as np\n",
      "import pandas as pd\n",
      "data = np.array( pd.read_csv( '../test/sample.csv', sep = ';', decimal = ',', header = None ), dtype = np.float )\n",
      "K = 5"
     ],
     "language": "python",
     "metadata": {},
     "outputs": []
    },
    {
     "cell_type": "code",
     "collapsed": false,
     "input": [
      "## Inital partition is based on hierarchical aglomerative clustering\n",
      "hh = algo.pi0_hier()\n",
      "## Produce one\n",
      "rr = hh( data, 5, method = 'single' )\n",
      "print rr\n",
      "crit = algo.partition_criterion( data )\n",
      "I0 = crit( rr )\n",
      "print I0\n",
      "sloc = algo.s_local( data, crit )\n",
      "I1 = sloc.m_local( rr, 10 )\n",
      "print I1\n",
      "print rr"
     ],
     "language": "python",
     "metadata": {},
     "outputs": []
    },
    {
     "cell_type": "code",
     "collapsed": false,
     "input": [
      "## Produce one\n",
      "rr = hh( data, 5, method = 'complete' )\n",
      "print rr\n",
      "crit = algo.partition_criterion( data )\n",
      "I0 = crit( rr )\n",
      "print I0\n",
      "sloc = algo.s_local( data, crit )\n",
      "I1 = sloc.m_local( rr, 10 )\n",
      "print I1\n",
      "print rr"
     ],
     "language": "python",
     "metadata": {},
     "outputs": []
    }
   ],
   "metadata": {}
  }
 ]
}