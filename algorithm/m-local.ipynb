{
 "metadata": {
  "name": "",
  "signature": "sha256:6813506a83fee96620896a7b54fab7e19d3361c0087d66c86fd5c00518396b17"
 },
 "nbformat": 3,
 "nbformat_minor": 0,
 "worksheets": [
  {
   "cells": [
    {
     "cell_type": "code",
     "collapsed": false,
     "input": [
      "import numpy as np\n",
      "import matplotlib.pyplot as plt\n",
      "%matplotlib inline\n",
      "\n",
      "import pandas as pd"
     ],
     "language": "python",
     "metadata": {},
     "outputs": [],
     "prompt_number": 1
    },
    {
     "cell_type": "code",
     "collapsed": false,
     "input": [
      "data = np.array( pd.read_csv( '../test/sample.csv', sep = ';', decimal = ',', header = None ), dtype = np.float )\n",
      "K = 5"
     ],
     "language": "python",
     "metadata": {},
     "outputs": [],
     "prompt_number": 2
    },
    {
     "cell_type": "markdown",
     "metadata": {},
     "source": [
      "A 4 by :math:`(n-1)` matrix ``Z`` is returned. At the\n",
      ":math:`i`-th iteration, clusters with indices ``Z[i, 0]`` and\n",
      "``Z[i, 1]`` are combined to form cluster :math:`n + i`. A\n",
      "cluster with an index less than :math:`n` corresponds to one of\n",
      "the :math:`n` original observations. The distance between\n",
      "clusters ``Z[i, 0]`` and ``Z[i, 1]`` is given by ``Z[i, 2]``. The\n",
      "fourth value ``Z[i, 3]`` represents the number of original\n",
      "observations in the newly formed cluster.\n",
      "\n",
      "The following linkage methods are used to compute the distance\n",
      ":math:`d(s, t)` between two clusters :math:`s` and\n",
      ":math:`t`. The algorithm begins with a forest of clusters that\n",
      "have yet to be used in the hierarchy being formed. When two\n",
      "clusters :math:`s` and :math:`t` from this forest are combined\n",
      "into a single cluster :math:`u`, :math:`s` and :math:`t` are\n",
      "removed from the forest, and :math:`u` is added to the\n",
      "forest. When only one cluster remains in the forest, the algorithm\n",
      "stops, and this cluster becomes the root.\n"
     ]
    },
    {
     "cell_type": "code",
     "collapsed": false,
     "input": [
      "## Initial class selection\n",
      "## Use algomerative hierarchical clustering\n",
      "from scipy.cluster import hierarchy\n",
      "\n",
      "\n",
      "## Rebuild the class synthesized at k-th iteration \n",
      "def hier_rebuild( L, k ) :\n",
      "    if k <= L.shape[ 0 ] : return [ int( k ) ]\n",
      "    i, j = L[ k - L.shape[ 0 ] - 1, :2 ]\n",
      "    return hier_rebuild( L, i ) + hier_rebuild( L, j )\n",
      "\n",
      "## Scalp off the last iterations of agglomerative clustering\n",
      "##  to figure out the partition with K classes\n",
      "def get_clust( L, K ) :\n",
      "    C = np.sort(L[-K+1:, :2].ravel())[:K]\n",
      "    return [ hier_rebuild( L, c ) for c in C ]\n",
      "\n",
      "def hier_init( data, K = 5, method = 'complete' ) :\n",
      "    clust = hierarchy.linkage( data, method = method )\n",
      "    return get_clust( clust, K )"
     ],
     "language": "python",
     "metadata": {},
     "outputs": [],
     "prompt_number": 3
    },
    {
     "cell_type": "code",
     "collapsed": false,
     "input": [
      "R0 = hier_init( data, K )\n",
      "print R0"
     ],
     "language": "python",
     "metadata": {},
     "outputs": [
      {
       "output_type": "stream",
       "stream": "stdout",
       "text": [
        "[[30, 36, 76, 55, 89, 59, 38, 52, 11, 51, 53, 10, 84, 87, 99, 5, 19], [37, 75, 16, 97, 68, 46, 29, 78, 3, 95, 31, 98, 13, 69, 72], [12, 86, 93, 35, 65, 41, 44, 34, 61, 80, 90, 27, 56, 49, 33, 62, 1, 54, 18, 74, 83], [14, 25, 70, 21, 60, 6, 20, 39, 22, 79, 7, 42, 40, 66, 71, 73, 28, 23, 81, 96, 88, 63, 2, 45, 47, 17, 24, 26, 77], [0, 85, 92, 4, 8, 57, 82, 67, 64, 58, 50, 91, 9, 32, 48, 15, 43, 94]]\n"
       ]
      }
     ],
     "prompt_number": 4
    },
    {
     "cell_type": "code",
     "collapsed": false,
     "input": [
      "from scipy.spatial import cKDTree as kdtree\n",
      "import scipy.spatial as sp\n",
      "\n",
      "kd0 = [ kdtree( data[ i ] ) for i in R0 ]"
     ],
     "language": "python",
     "metadata": {},
     "outputs": []
    },
    {
     "cell_type": "code",
     "collapsed": false,
     "input": [
      "kNN = kdtree.query\n",
      "i = 0; j = 1\n",
      "s = 1\n",
      "\n",
      "## get the centroid of the rival calss\n",
      "centroid = np.mean( kd0[ j ].data, axis = 0 )\n",
      "## Find s-Nearest Neighbours\n",
      "res = kNN( kd0[ i ], centroid, k = s )[ 1 ]\n",
      "B =  res if s > 1 else [ res ]\n",
      "## remove and add\n",
      "A = [ x for x in R0[ i ] if x not in B ]\n",
      "B.extend( R0[ j ] )\n",
      "## Compute their centroid\n",
      "dd = hierarchy.distance.cdist( data[ A ], data[ B ] )"
     ],
     "language": "python",
     "metadata": {},
     "outputs": []
    },
    {
     "cell_type": "code",
     "collapsed": false,
     "input": [
      "data[ A ]"
     ],
     "language": "python",
     "metadata": {},
     "outputs": []
    },
    {
     "cell_type": "code",
     "collapsed": false,
     "input": [
      "ddist = sp.distance.pdist( data )"
     ],
     "language": "python",
     "metadata": {},
     "outputs": []
    },
    {
     "cell_type": "code",
     "collapsed": false,
     "input": [
      "hierarchy.distance.cdist()"
     ],
     "language": "python",
     "metadata": {},
     "outputs": []
    },
    {
     "cell_type": "code",
     "collapsed": false,
     "input": [
      "s = 1\n",
      "i, j = 0, 0\n",
      "stable = False\n",
      "kNN = kdtree.query\n",
      "while not stable :\n",
      "    for i in range( len( R0 ) ) :\n",
      "        for j in range( len( R0 ) ) :\n",
      "            if( i == j ) : continue\n",
      "## get the centroid of the rival calss\n",
      "            centroid = np.mean( kd0[ j ].data )\n",
      "## Find s-Nearest Neighbours\n",
      "            res = kNN( kd0[ i ], centroid, k = s )[ 1 ]\n",
      "            B =  res if s > 1 else [ res ]\n",
      "## remove and add\n",
      "            A = [ x for x in R0[ i ] if x not in B ]\n",
      "            B.extend( R0[ j ] )\n",
      "## Compute the distnace criteria\n",
      "            dd = hierarchy.distance.cdist( data[ A ], data[ B ] )\n",
      "## Compute their centroid\n",
      "            cA = np.mean( data[ A ], axis = 0 )\n",
      "            cB = np.mean( data[ B ], axis = 0 )\n",
      "            \n",
      "## Construct the kd-trees: oh, is this slow!\n",
      "            kdi, kdj = kdtree( data[ R0[ i ] ] )"
     ],
     "language": "python",
     "metadata": {},
     "outputs": []
    },
    {
     "cell_type": "code",
     "collapsed": false,
     "input": [],
     "language": "python",
     "metadata": {},
     "outputs": []
    },
    {
     "cell_type": "code",
     "collapsed": false,
     "input": [
      "## data, R0, s = 1\n",
      "## 1-local optimization\n",
      "i = 0; j = 1;\n",
      "while not stable :\n",
      "    \n",
      "for i in range( len( R0 ) ) :\n",
      "    for j in range( len( R0 ) ) :\n",
      "        if( i == j ) : continue\n",
      "        \n",
      "## the class belonging function\n",
      "u = np.empty( ( data.shape[ 0 ], K ), np.float ) \n",
      "\n",
      "\n",
      "# def one_local( data ):"
     ],
     "language": "python",
     "metadata": {},
     "outputs": []
    },
    {
     "cell_type": "code",
     "collapsed": false,
     "input": [
      "## Initial cluster partition: just assign classes at random\n",
      "K = 5\n",
      "\n",
      "\n",
      "rho = np.empty( data.shape[ 0 ], np.int )\n",
      "for c in xrange( K ) :\n",
      "    rho[ inx[ c::K ] ] = c"
     ],
     "language": "python",
     "metadata": {},
     "outputs": []
    },
    {
     "cell_type": "code",
     "collapsed": false,
     "input": [],
     "language": "python",
     "metadata": {},
     "outputs": []
    },
    {
     "cell_type": "code",
     "collapsed": false,
     "input": [
      "from scipy.spatial import KDTree as kd\n",
      "import scipy.spatial as sp\n",
      "## \u041e\u0436\u0438\u0434\u0430\u0435\u043c \u043d\u0430 \u0432\u0445\u043e\u0434\u0435 \u043a\u043b\u0430\u0441\u0441\u044b \u043f\u0440\u0435\u0434\u0441\u0442\u0430\u0432\u043b\u0435\u043d\u043d\u044b\u0435 KD-\u0434\u0435\u0440\u0435\u0432\u044c\u044f\u043c\u0438 \u0441 \u043d\u0435\u043f\u0435\u0440\u0435\u0441\u0435\u043a\u0430\u044e\u0449\u0438\u043c\u0438\u0441\u044f \u0434\u0430\u043d\u043d\u044b\u043c\u0438 \n",
      "##  http://en.wikipedia.org/wiki/K-d_tree\n",
      "## \u0412\u043e\u0437\u043c\u043e\u0436\u043d\u0430 \u0438\u043d\u0430\u044f \u0441\u0442\u0440\u0443\u043a\u0440\u0442\u0443\u0440\u0430 \u043e\u043f\u0442\u0438\u043c\u0430\u043b\u044c\u043d\u043e\u0433\u043e \u0445\u0440\u0430\u043d\u0435\u043d\u0438\u044f \u043f\u0440\u043e\u0441\u0442\u0440\u0430\u043d\u0441\u0442\u0432\u0435\u043d\u043d\u044b\u0445 \u0434\u0430\u043d\u043d\u044b\u0445.\n",
      "# ddist = sp.distance.pdist( data )\n",
      "# d = ddist.\n",
      "\n",
      "def one_local( data, rho, K = 5, niter = 10000, rel_eps = 1e-6 ) :\n",
      "## Initialize the class split\n",
      "    inx = [ list( ) for i in xrange( K ) ]\n",
      "## derive the data-cluster indices\n",
      "    for i, x in enumerate( rho ) : inx[ x ].append( i )\n",
      "## Create a sequence of class pairs to consider\n",
      "##  (i,j) : i->j and then j->i\n",
      "\n",
      "\n",
      "# \u043d\u0430\u0447\u0438\u043d\u0430\u0435\u043c \u0441 A_1 \u0438 \u043f\u043e\u043f\u0430\u0440\u043d\u043e \u043f\u0435\u0440\u0435\u0431\u0440\u0430\u0441\u044b\u0432\u0430\u0435\u043c \u0438\u0437 A_1 \u0432 A_k \u0433\u0440\u0443\u043f\u043f\u044b s \u0442\u043e\u0447\u0435\u043a \u043f\u043e\u043a\u0430 \u043d\u0435 \u0431\u0443\u0434\u0435\u0442 \u0434\u043e\u0441\u0442\u0438\u0433\u043d\u0443\u0442\u0430 \u0441\u0442\u0430\u0431\u0438\u043b\u0438\u0437\u0430\u0446\u0438\u044f \u043f\u0430\u0440\u044b A_1 -- A_k.\n",
      "# \u043f\u0435\u0440\u0435\u0445\u043e\u0434\u0438\u043c \u043a \u0441\u043b\u0435\u0434\u0443\u044e\u0449\u0435\u0439 \u043f\u0430\u0440\u0435 A_1 A_{k+1}\n",
      "# \u043f\u0440\u043e\u0434\u043e\u043b\u0436\u0430\u0435\u043c \u0440\u0430\u0431\u043e\u0442\u0430\u0442\u044c \u0441 A_1 \u0434\u043e \u0442\u0435\u0445 \u043f\u043e\u0440, \u043f\u043e\u043a\u0430 \u043d\u0435 \u0431\u0443\u0434\u0435\u0442 \u043f\u0440\u043e\u0438\u0437\u0432\u0435\u0434\u0435\u043d\u043e \u043d\u0438 \u043e\u0434\u043d\u043e\u0433\u043e \u043f\u0435\u0440\u0435\u0431\u0440\u043e\u0441\u0430 (\u0446\u0438\u043a\u043b\u0438\u0440\u043e\u0432\u0430\u043d\u0438\u0435 \u043f\u043e\u0441\u043b\u0435\u0434\u043e\u0432\u0430\u0442\u0435\u043b\u044c\u043d\u043e\u0441\u0442\u0438)\n",
      "\n",
      "# \u043f\u0440\u0438\u0441\u0442\u0443\u043f\u0430\u0435\u043c \u043a \u043a\u043b\u0430\u0441\u0441\u0443 A_2 \u0430\u043d\u0430\u043b\u043e\u0433\u0438\u0447\u043d\u043e \u043f\u043e \u0432\u0441\u0435\u043c \u043e\u0441\u0442\u0430\u043b\u044c\u043d\u044b\u043c \u043a\u043b\u0430\u0441\u0441\u0430\u043c (\u0438 \u043f\u043e \u043f\u0435\u0440\u0432\u043e\u043c\u0443!)\n",
      "\n",
      "\n",
      "# \u041e\u0441\u043d\u043e\u0432\u043d\u0430\u044f \u0437\u0430\u0434\u0430\u0447\u0430 : \u0447\u0438\u0441\u043b\u043e \u043a\u043b\u0430\u0441\u0441\u043e\u0432 \u0437\u0430\u0434\u0430\u043d\u043e\n",
      "\n",
      "# \u043c\u043e\u0436\u043d\u043e \u0440\u0435\u0430\u043b\u0438\u0437\u043e\u0432\u0430\u0442\u044c \u043b\u043e\u0430\u043a\u043b\u044c\u043d\u043e\u0439 \u043e\u043f\u0442\u0438\u043c\u0430\u043b\u044c\u043d\u043e\u0435 \u0447\u0438\u0441\u043b\u043e \u043a\u043b\u0430\u0441\u0441\u043e\u0432\n",
      "def s_local( data, rho, K = 5, s = 1, niter = 10000, rel_eps = 1e-6 ) :\n",
      "## Initialize the class split\n",
      "    inx = [ list( ) for i in xrange( K ) ]\n",
      "## derive the data-cluster indices\n",
      "    for i, x in enumerate( rho ) : inx[ x ].append( i )\n",
      "## Initialise cluster trees\n",
      "    clusters_0 = [ kd( data[ i ] ) for i in inx ]\n",
      "## Calculate the centres of mass\n",
      "    centres_0 = [ np.mean( k.data, axis = 0 ) for k in clusters_0 ]\n",
      "## Create class-pair schedule. The pair is exmained bidirectionally:\n",
      "##  for (i,j) first i->j and then j->i inter-class shuffling.\n",
      "    cseq = np.random.permutation( K )\n",
      "    schedule = [ ( i, j ) for i, j in zip( cseq, np.roll( cseq, -1 ) ) ]\n",
      "## Initialize the list of stabilized classes\n",
      "    stable = list( ) ; iter = 0\n",
      "## Repeat unitl the number of iterrations\n",
      "    while schedule and iter < niter :\n",
      "## Skim the first pair in the queue\n",
      "        a, b = schedule.pop( )"
     ],
     "language": "python",
     "metadata": {},
     "outputs": []
    },
    {
     "cell_type": "code",
     "collapsed": false,
     "input": [
      "## Initialize the class split\n",
      "inx = [ list( ) for i in xrange( K ) ]\n",
      "## derive the data-cluster indices\n",
      "for i, x in enumerate( rho ) : inx[ x ].append( i )\n",
      "## Initialise cluster trees\n",
      "clusters_0 = [ kd( data[ i ] ) for i in inx ]\n",
      "## Calculate the centres of mass\n",
      "centres_0 = [ np.mean( k.data, axis = 0 ) for k in clusters_0 ]\n",
      "## Create class-pair schedule. The pair is exmained bidirectionally:\n",
      "##  for (i,j) first i->j and then j->i inter-class shuffling.\n",
      "cseq = np.random.permutation( K )\n",
      "schedule = [ ( i, j ) for i, j in zip( cseq, np.roll( cseq, -1 ) ) ]\n",
      "\n"
     ],
     "language": "python",
     "metadata": {},
     "outputs": []
    },
    {
     "cell_type": "code",
     "collapsed": false,
     "input": [
      "a, b = schedule[0]"
     ],
     "language": "python",
     "metadata": {},
     "outputs": []
    },
    {
     "cell_type": "code",
     "collapsed": false,
     "input": [
      "_, jab = clusters_0[a].query(centres_0[b], k = 1)"
     ],
     "language": "python",
     "metadata": {},
     "outputs": []
    },
    {
     "cell_type": "code",
     "collapsed": false,
     "input": [
      "jab"
     ],
     "language": "python",
     "metadata": {},
     "outputs": []
    },
    {
     "cell_type": "code",
     "collapsed": false,
     "input": [
      "ca, cb = ( C0[ i ] for i in PP )\n",
      "ma, mb = ( M0[ i ] for i in PP )\n",
      "## Find the nearest neighbour to the b-th centre of mass\n",
      "_, ja = ca.query( mb, k = 1, p = 2 )\n",
      "## Get data for the new classes\n",
      "da = np.vstack( ( ca.data[ :ja ], ca.data[ ja+1: ] ) )\n",
      "db = np.vstack( ( cb.data, ca.data[ ja ] ) )\n",
      "## Compute the new scores. It is summed that the score is\n",
      "##  additive with respect to scores of distinct partitions.\n",
      "## Form new classes\n",
      "Xa = I0.get( PP[ 0 ], [ ] ) ; Xb = I0.get( PP[ 1 ], [ ] )\n",
      "Xb_prime = Xb + [ Xa[ ja ] ]\n",
      "Xa_prime = Xa[ :ja ] + Xa[ ja+1:]\n",
      "# ca_prime = kd( ca.data[-ja] )"
     ],
     "language": "python",
     "metadata": {},
     "outputs": []
    },
    {
     "cell_type": "code",
     "collapsed": false,
     "input": [
      "x = np.random.permutation(5)\n",
      "print x\n",
      "print [ (i,j) for i,j in zip( x, np.roll( x, -1 ) )]"
     ],
     "language": "python",
     "metadata": {},
     "outputs": []
    },
    {
     "cell_type": "code",
     "collapsed": false,
     "input": [
      "def split_by_value( data ) :\n",
      "\tbins = dict( )\n",
      "## For each value in the given array, add the index of each occurrence\n",
      "##  into the bin dedicated to the encountered value.\n",
      "\tfor i, x in enumerate( data ) :\n",
      "## Prepend the current occurrence of a value, unless it has never been\n",
      "##  seen before, in which case initialise the list of indices for it.\n",
      "\t\tbins[ x ] = bins.get( x, [ ] ) + [ i ]\n",
      "\treturn bins"
     ],
     "language": "python",
     "metadata": {},
     "outputs": []
    },
    {
     "cell_type": "code",
     "collapsed": false,
     "input": [
      "## Data and rho. Rho is the point to class mapping\n",
      "from scipy.spatial import KDTree as kd\n",
      "## Get indices of the data points in each class\n",
      "I0 = split_by_value( rho )\n",
      "## Initialise cluster trees\n",
      "C0 = [ kd( data[ I0.get( i, [ ] ) ] ) for i in xrange( K ) ]\n",
      "## an index i in kd tree data corresponds to CI[#][i] in the original data\n",
      "## Compute the Centres Of Mass\n",
      "M0 = [ np.mean( k.data, axis = 0 ) for k in C0 ]"
     ],
     "language": "python",
     "metadata": {},
     "outputs": []
    },
    {
     "cell_type": "code",
     "collapsed": false,
     "input": [
      "## Choose a pair of classes at random\n",
      "PP = np.random.choice( K, size = 2, replace = True )"
     ],
     "language": "python",
     "metadata": {},
     "outputs": []
    },
    {
     "cell_type": "code",
     "collapsed": false,
     "input": [
      "import scipy.spatial as sp\n",
      "ddist = sp.distance.pdist( data )\n",
      "d = ddist.\n",
      "# http://docs.scipy.org/doc/scipy/reference/generated/scipy.spatial.distance.pdist.html\n",
      "# http://docs.scipy.org/doc/scipy/reference/generated/scipy.spatial.KDTree.html\n",
      "# http://wiki.scipy.org/Cookbook/KDTree"
     ],
     "language": "python",
     "metadata": {},
     "outputs": []
    },
    {
     "cell_type": "code",
     "collapsed": false,
     "input": [
      "print Xa_prime\n",
      "print Xb_prime\n",
      "print da, db"
     ],
     "language": "python",
     "metadata": {},
     "outputs": []
    },
    {
     "cell_type": "code",
     "collapsed": false,
     "input": [
      "np.arange(10, dtype = np.float)[-1]"
     ],
     "language": "python",
     "metadata": {},
     "outputs": []
    },
    {
     "cell_type": "code",
     "collapsed": false,
     "input": [
      "# C0[0].query(x, k=1, eps=0, p=2, distance_upper_bound=inf)\n",
      "C0[1].query( M0[4], k = 10 )"
     ],
     "language": "python",
     "metadata": {},
     "outputs": []
    },
    {
     "cell_type": "code",
     "collapsed": false,
     "input": [
      "a = np.array( [1,2,3,1,2,1,1,1], np.int )\n",
      "i = np.argsort( a )\n",
      "d = np.ones( len( a ) )\n",
      "d[1:] = np.diff( a[ i ] )\n",
      "j = np.where( d > 0 )\n",
      "print i[ j ]\n",
      "np.unique( a, return_inverse = True, return_index = True )"
     ],
     "language": "python",
     "metadata": {},
     "outputs": []
    },
    {
     "cell_type": "code",
     "collapsed": false,
     "input": [
      "np.where(a==1)"
     ],
     "language": "python",
     "metadata": {},
     "outputs": []
    },
    {
     "cell_type": "code",
     "collapsed": false,
     "input": [
      "[ np.where(a==v) for v in np.unique( a ) ]"
     ],
     "language": "python",
     "metadata": {},
     "outputs": []
    },
    {
     "cell_type": "code",
     "collapsed": false,
     "input": [
      "print data"
     ],
     "language": "python",
     "metadata": {},
     "outputs": []
    },
    {
     "cell_type": "code",
     "collapsed": false,
     "input": [
      "wordcount = np.fromregex(\n",
      "\t'./data/wordcounts.txt', r\"(\\d+)\\s+(.{,32})\",\n",
      "\t[ ( 'freq', np.int64 ), ( 'word', 'S32' ) ] )"
     ],
     "language": "python",
     "metadata": {},
     "outputs": []
    },
    {
     "cell_type": "markdown",
     "metadata": {},
     "source": [
      "http://stackoverflow.com/questions/4274218/incremental-nearest-neighbor-algorithm-in-python  \n",
      "\n",
      "This is way late, but for posterity:\n",
      "\n",
      "There is actually a technique for converting batch-processed algorithms like KD-Tree into incremental algorithms: it's called a static-to-dynamic transformation.\n",
      "\n",
      "To generate an incremental variant of a KD-Tree, you store a set of trees instead of just one tree. When there are N elements in your nearest-neighbor structure, your structure will have a tree for each \"1\" bit in the binary representation of $N$. Moreover, if tree $T_i$ corresponds to the $i$-th bit of $N$, then tree $T_i$ contains $2^i$ elements.\n",
      "\n",
      "So, if you have 11 elements in your structure, then $N = 11$, or 1011 in binary, and therefore you have three trees - $T_3$, $T_1$, and $T_0$ - with 8 elements, 2 elements, and 1 element, respectively.\n",
      "\n",
      "Now, let's insert an element $e$ into our structure. After insertion, we'll have 12 elements, or 1100 in binary. Comparing the new and the previous binary string, we see that $T_3$ doesn't change, we have a new tree $T_2$ with 4 elements, and trees $T_1$ and $T_0$ get deleted. We construct the new tree $T_2$ by doing a batch insertion of e along with all the elements in the trees \"below\" $T_2$, which are $T_1$ and $T_0$.\n",
      "\n",
      "In this way, we create an incremental point query structure from a static base structure. There is, however, an asymptotic slowdown in \"incrementalizing\" static structures like this in the form of an extra $log(N)$ factor:  \n",
      "* inserting $N$ elements in structure: $O(N log(N) log(n))$\n",
      "* nearest neighbor query for structure with $N$ elements: $O(log(n) log(n))$"
     ]
    },
    {
     "cell_type": "code",
     "collapsed": false,
     "input": [
      "import numpy as np\n",
      "from scipy.spatial import KDTree as kd\n",
      "\n",
      "shape = [ 1000, 10 ]\n",
      "data = np.random.rand(*shape)\n",
      "cls = kd(data, leafsize = int( shape[0]**(2.0/shape[1]) )+1 )\n",
      "x, y = np.mgrid[0:5, 2:8]\n",
      "pts = np.random.rand( 3, shape[ 1 ] )\n",
      "\n",
      "pts = [ np.random.uniform( size = shape[ 1 ] ) for _ in xrange(10) ]\n",
      "## Find the K nearest negihbours for each given point in pts\n",
      "cls.query( pts, k = 1, p = 2 )\n",
      "## If k=1 then the returned array of arrays is simplified into a 1d array"
     ],
     "language": "python",
     "metadata": {},
     "outputs": []
    }
   ],
   "metadata": {}
  }
 ]
}