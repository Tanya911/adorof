{
 "metadata": {
  "name": "",
  "signature": "sha256:cc9c31034c56c06c1c2c8daf6a2855e6e13d2627cf7b2f8e6679d48c7b1994b0"
 },
 "nbformat": 3,
 "nbformat_minor": 0,
 "worksheets": [
  {
   "cells": [
    {
     "cell_type": "code",
     "collapsed": false,
     "input": [
      "import m_local as algo"
     ],
     "language": "python",
     "metadata": {},
     "outputs": []
    },
    {
     "cell_type": "code",
     "collapsed": false,
     "input": [
      "import numpy as np\n",
      "import pandas as pd\n",
      "data = np.array( pd.read_csv( '../test/sample.csv', sep = ';', decimal = ',', header = None ), dtype = np.float )\n",
      "K = 5"
     ],
     "language": "python",
     "metadata": {},
     "outputs": []
    },
    {
     "cell_type": "code",
     "collapsed": false,
     "input": [
      "## Inital partition is based on hierarchical aglomerative clustering\n",
      "hh = algo.pi0_hier()\n",
      "## Produce one\n",
      "rr = hh( data, 5, method = 'single' )\n",
      "print rr\n",
      "crit = algo.partition_criterion( data )\n",
      "I0 = crit( rr )\n",
      "print I0\n",
      "sloc = algo.s_local( data, crit )\n",
      "I1 = sloc.m_local( rr, 10 )\n",
      "print I1\n",
      "print rr"
     ],
     "language": "python",
     "metadata": {},
     "outputs": []
    },
    {
     "cell_type": "code",
     "collapsed": false,
     "input": [
      "## Produce one\n",
      "rr = hh( data, 5, method = 'complete' )\n",
      "print rr\n",
      "crit = algo.partition_criterion( data )\n",
      "I0 = crit( rr )\n",
      "print I0\n",
      "sloc = algo.s_local( data, crit )\n",
      "I1 = sloc.m_local( rr, 10 )\n",
      "print I1\n",
      "print rr"
     ],
     "language": "python",
     "metadata": {},
     "outputs": []
    },
    {
     "cell_type": "code",
     "collapsed": false,
     "input": [
      "np.genfromtxt('../release/data.csv', delimiter=',')"
     ],
     "language": "python",
     "metadata": {},
     "outputs": []
    },
    {
     "cell_type": "code",
     "collapsed": false,
     "input": [
      "from ttk import Combobox"
     ],
     "language": "python",
     "metadata": {},
     "outputs": [],
     "prompt_number": 7
    },
    {
     "cell_type": "code",
     "collapsed": false,
     "input": [
      "Combobox()"
     ],
     "language": "python",
     "metadata": {},
     "outputs": []
    }
   ],
   "metadata": {}
  }
 ]
}