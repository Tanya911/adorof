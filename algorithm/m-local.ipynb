{
 "metadata": {
  "name": "",
  "signature": "sha256:054e914795ed3dbe8c142d67dfa24f1728e594af94f45be6624934b2326512ea"
 },
 "nbformat": 3,
 "nbformat_minor": 0,
 "worksheets": [
  {
   "cells": [
    {
     "cell_type": "code",
     "collapsed": false,
     "input": [
      "import numpy as np\n",
      "from scipy.spatial import KDTree as kd\n"
     ],
     "language": "python",
     "metadata": {},
     "outputs": [],
     "prompt_number": 8
    },
    {
     "cell_type": "code",
     "collapsed": false,
     "input": [
      "shape = [ 1000, 10 ]\n",
      "data = np.random.rand(*shape)"
     ],
     "language": "python",
     "metadata": {},
     "outputs": [],
     "prompt_number": 9
    },
    {
     "cell_type": "code",
     "collapsed": false,
     "input": [
      "cls = kd(data, leafsize = int( shape[0]**(2.0/shape[1]) )+1 )"
     ],
     "language": "python",
     "metadata": {},
     "outputs": [],
     "prompt_number": 10
    },
    {
     "cell_type": "code",
     "collapsed": false,
     "input": [
      "cls"
     ],
     "language": "python",
     "metadata": {},
     "outputs": [
      {
       "metadata": {},
       "output_type": "pyout",
       "prompt_number": 11,
       "text": [
        "<scipy.spatial.kdtree.KDTree at 0x10f2caa90>"
       ]
      }
     ],
     "prompt_number": 11
    },
    {
     "cell_type": "code",
     "collapsed": false,
     "input": [
      "x, y = np.mgrid[0:5, 2:8]"
     ],
     "language": "python",
     "metadata": {},
     "outputs": [],
     "prompt_number": 15
    },
    {
     "cell_type": "code",
     "collapsed": false,
     "input": [
      "pts = np.random.rand( 3, shape[ 1 ] )\n",
      "\n",
      "pts = [ np.random.uniform( size = shape[ 1 ] ) for _ in xrange(10) ]\n",
      "## Find the K nearest negihbours for each given point in pts\n",
      "cls.query( pts, k = 1, p = 2 )\n",
      "## If k=1 then the returned array of arrays is simplified into a 1d array"
     ],
     "language": "python",
     "metadata": {},
     "outputs": [
      {
       "metadata": {},
       "output_type": "pyout",
       "prompt_number": 26,
       "text": [
        "(array([ 0.49572274,  0.3598551 ,  0.51373804,  0.52851405,  0.51502314,\n",
        "         0.64313618,  0.36292489,  0.49068109,  0.42710946,  0.30727696]),\n",
        " array([ 56, 164, 675, 344, 138, 714, 455, 750, 991, 382]))"
       ]
      }
     ],
     "prompt_number": 26
    },
    {
     "cell_type": "code",
     "collapsed": false,
     "input": [],
     "language": "python",
     "metadata": {},
     "outputs": []
    }
   ],
   "metadata": {}
  }
 ]
}