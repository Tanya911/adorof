{
 "metadata": {
  "name": "",
  "signature": "sha256:83610c172a664024419afd9903269f556e03c61dda776259ba4ae81b8a9f22d8"
 },
 "nbformat": 3,
 "nbformat_minor": 0,
 "worksheets": [
  {
   "cells": [
    {
     "cell_type": "code",
     "collapsed": false,
     "input": [
      "## \u041f\u043e\u0434\u043a\u043b\u044e\u0447\u0430\u0435\u043c \u0438\u0441\u043f\u043e\u043b\u044c\u0437\u0443\u0435\u043c\u044b\u0435 \u043c\u043e\u0434\u0443\u043b\u0438\n",
      "import numpy as np\n",
      "import numpy.random as rnd\n",
      "import matplotlib.pyplot as plt\n",
      "\n",
      "## \u041a\u043e\u043c\u0430\u043d\u0434\u0430 iPython \u0432\u044b\u0432\u043e\u0434\u0438\u0442\u044c \u0440\u0438\u0441\u0443\u043d\u043e\u043a \u0441\u0440\u0430\u0437\u0443\n",
      "%matplotlib inline"
     ],
     "language": "python",
     "metadata": {},
     "outputs": []
    }
   ],
   "metadata": {}
  }
 ]
}