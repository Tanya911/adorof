{
 "metadata": {
  "name": "",
  "signature": "sha256:659884c327cc9c1dd84107234b9f1aa4fea6e1d05377517abcfc50fb7f27828c"
 },
 "nbformat": 3,
 "nbformat_minor": 0,
 "worksheets": [
  {
   "cells": [
    {
     "cell_type": "code",
     "collapsed": false,
     "input": [
      "import numpy as np\n",
      "import FillGaps as fg\n",
      "import m_local as algo\n",
      "\n",
      "import pandas as pd\n",
      "from model import model\n",
      "mdl = model( )"
     ],
     "language": "python",
     "metadata": {},
     "outputs": [],
     "prompt_number": 1
    },
    {
     "cell_type": "code",
     "collapsed": false,
     "input": [
      "with open( './data.csv' ) as fin :\n",
      "    mdl.load_datafile( fin )\n",
      "data0 = mdl( )"
     ],
     "language": "python",
     "metadata": {},
     "outputs": [],
     "prompt_number": 19
    },
    {
     "cell_type": "code",
     "collapsed": false,
     "input": [
      "## Fill missing obsevations\n",
      "data1 = fg.fill_missing( data0 )"
     ],
     "language": "python",
     "metadata": {},
     "outputs": [],
     "prompt_number": 20
    },
    {
     "cell_type": "code",
     "collapsed": false,
     "input": [
      "## Inital partition is based on hierarchical aglomerative clustering\n",
      "pi0 = algo.initial_partition_hier( )\n",
      "R0 = pi0( data1, K = 5, method = 'single' )\n",
      "print R0"
     ],
     "language": "python",
     "metadata": {},
     "outputs": [
      {
       "output_type": "stream",
       "stream": "stdout",
       "text": [
        "[[0], [99, 19, 11, 51, 5, 59, 30, 36, 76, 38, 52, 55, 89, 10, 53, 84, 87], [41, 44, 12, 86, 1, 54, 90, 80, 49, 34, 61, 33, 62, 93, 35, 65, 27, 56, 18, 74, 83], [14, 70, 88, 63, 2, 45, 25, 22, 79, 7, 42, 73, 71, 66, 28, 24, 23, 17, 81, 96, 40, 21, 60, 6, 20, 39, 47, 26, 77], [92, 37, 46, 3, 75, 68, 29, 78, 95, 13, 31, 98, 16, 97, 69, 72, 48, 9, 32, 15, 43, 94, 85, 4, 8, 57, 82, 67, 64, 58, 50, 91]]\n"
       ]
      }
     ],
     "prompt_number": 24
    },
    {
     "cell_type": "code",
     "collapsed": false,
     "input": [
      "crit = algo.partition_criterion( data1 )\n",
      "I0 = crit( R0 )\n",
      "print I0\n",
      "sloc = algo.s_local( data1, crit )\n",
      "I1 = sloc.m_local( R0, 10 )\n",
      "print I1\n",
      "print R0"
     ],
     "language": "python",
     "metadata": {},
     "outputs": [
      {
       "output_type": "stream",
       "stream": "stdout",
       "text": [
        "-0.0\n",
        "59.1338419155"
       ]
      },
      {
       "output_type": "stream",
       "stream": "stdout",
       "text": [
        "\n",
        "[[0, 92, 15, 85, 8, 82, 67, 64, 58, 50, 91, 32, 43, 94, 4, 57], [99, 19, 11, 5, 59, 30, 36, 76, 38, 52, 55, 89, 10, 53, 84, 87, 51], [44, 12, 86, 1, 54, 90, 80, 49, 34, 61, 33, 62, 93, 35, 65, 27, 56, 18, 74, 83, 41], [14, 70, 88, 63, 2, 45, 25, 22, 79, 7, 42, 73, 71, 66, 28, 24, 23, 17, 81, 96, 40, 21, 60, 6, 20, 39, 47, 26, 77], [37, 3, 75, 68, 29, 95, 13, 31, 98, 16, 97, 69, 72, 78, 46, 9, 48]]\n"
       ]
      }
     ],
     "prompt_number": 22
    },
    {
     "cell_type": "code",
     "collapsed": false,
     "input": [
      "## Count the classes\n",
      "K = 5\n",
      "## Construct the initial partition\n",
      "    algo.initial_partition_hier()\n",
      "## Run the m-local clusterisation procedure\n",
      "\n",
      "## \u041f\u043e\u043b\u0443\u0447\u0430\u0435\u043c \u0434\u0430\u043d\u043d\u044b\u0435 \u0438\u0437 \u0431\u0430\u0437\u044b\n",
      "data_id, data_raw = get_dataset( name = user_params[ \"dataset\" ] )\n",
      "## \u041e\u0431\u0440\u0430\u0431\u0430\u0442\u044b\u0432\u0430\u0435\u043c \u0447\u0438\u0441\u043b\u043e\u0432\u044b\u0435 \u0434\u0430\u043d\u043d\u044b\u0435 \u0430\u043b\u0433\u043e\u0440\u0438\u0442\u043c\u0430\u043c\u0438\n",
      "## \u041f\u043e\u043f\u043e\u043b\u043d\u044f\u0435\u043c \u043f\u0440\u043e\u043f\u0443\u0441\u043a\u0438\n",
      "data = fill_missing( data_raw, **user_params )\n",
      "## \u0421\u0447\u0438\u0442\u0430\u0435\u043c \u043a\u043b\u0430\u0441\u0441\u044b\n",
      "class_number = count_classes( data, **user_params )\n",
      "## \u0412\u044b\u0431\u0438\u0440\u0430\u0435\u043c \u043d\u0430\u0447\u0430\u043b\u044c\u043d\u043e\u0435 \u0440\u0430\u0437\u0431\u0438\u0435\u043d\u0438\u0435\n",
      "class_seed = seed( data, class_number, **user_params )\n",
      "## \u041a\u043b\u0430\u0441\u0442\u0435\u0440\u0438\u0437\u0443\u0435\u043c\n",
      "result = cluster( data, class_number, class_seed )"
     ],
     "language": "python",
     "metadata": {},
     "outputs": [
      {
       "ename": "NameError",
       "evalue": "name 'get_dataset' is not defined",
       "output_type": "pyerr",
       "traceback": [
        "\u001b[0;31m---------------------------------------------------------------------------\u001b[0m\n\u001b[0;31mNameError\u001b[0m                                 Traceback (most recent call last)",
        "\u001b[0;32m<ipython-input-3-e4811e0ffd21>\u001b[0m in \u001b[0;36m<module>\u001b[0;34m()\u001b[0m\n\u001b[1;32m      4\u001b[0m \u001b[0;34m\u001b[0m\u001b[0m\n\u001b[1;32m      5\u001b[0m \u001b[0;31m## \u041f\u043e\u043b\u0443\u0447\u0430\u0435\u043c \u0434\u0430\u043d\u043d\u044b\u0435 \u0438\u0437 \u0431\u0430\u0437\u044b\u001b[0m\u001b[0;34m\u001b[0m\u001b[0;34m\u001b[0m\u001b[0m\n\u001b[0;32m----> 6\u001b[0;31m \u001b[0mdata_id\u001b[0m\u001b[0;34m,\u001b[0m \u001b[0mdata_raw\u001b[0m \u001b[0;34m=\u001b[0m \u001b[0mget_dataset\u001b[0m\u001b[0;34m(\u001b[0m \u001b[0mname\u001b[0m \u001b[0;34m=\u001b[0m \u001b[0muser_params\u001b[0m\u001b[0;34m[\u001b[0m \u001b[0;34m\"dataset\"\u001b[0m \u001b[0;34m]\u001b[0m \u001b[0;34m)\u001b[0m\u001b[0;34m\u001b[0m\u001b[0m\n\u001b[0m\u001b[1;32m      7\u001b[0m \u001b[0;31m## \u041e\u0431\u0440\u0430\u0431\u0430\u0442\u044b\u0432\u0430\u0435\u043c \u0447\u0438\u0441\u043b\u043e\u0432\u044b\u0435 \u0434\u0430\u043d\u043d\u044b\u0435 \u0430\u043b\u0433\u043e\u0440\u0438\u0442\u043c\u0430\u043c\u0438\u001b[0m\u001b[0;34m\u001b[0m\u001b[0;34m\u001b[0m\u001b[0m\n\u001b[1;32m      8\u001b[0m \u001b[0;31m## \u041f\u043e\u043f\u043e\u043b\u043d\u044f\u0435\u043c \u043f\u0440\u043e\u043f\u0443\u0441\u043a\u0438\u001b[0m\u001b[0;34m\u001b[0m\u001b[0;34m\u001b[0m\u001b[0m\n",
        "\u001b[0;31mNameError\u001b[0m: name 'get_dataset' is not defined"
       ]
      }
     ],
     "prompt_number": 3
    },
    {
     "cell_type": "code",
     "collapsed": false,
     "input": [],
     "language": "python",
     "metadata": {},
     "outputs": []
    }
   ],
   "metadata": {}
  }
 ]
}