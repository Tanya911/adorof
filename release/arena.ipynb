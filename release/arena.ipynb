{
 "metadata": {
  "name": "",
  "signature": "sha256:083d9d9705ee3c8bcc8a2b500e1031c7e3826869142d799846282d78175ad0fa"
 },
 "nbformat": 3,
 "nbformat_minor": 0,
 "worksheets": [
  {
   "cells": [
    {
     "cell_type": "code",
     "collapsed": false,
     "input": [
      "import numpy as np\n",
      "import FillGaps as fg\n",
      "\n",
      "from algorithm import initial as ini\n",
      "from algorithm import criteria as crit\n",
      "from algorithm import m_local as mloc\n",
      "\n",
      "import m_local as algo\n",
      "\n",
      "import pandas as pd\n",
      "from model import model\n",
      "mdl = model( )\n"
     ],
     "language": "python",
     "metadata": {},
     "outputs": []
    },
    {
     "cell_type": "code",
     "collapsed": false,
     "input": [
      "with open( './data.csv' ) as fin :\n",
      "    mdl.load_datafile( fin )\n",
      "data0 = mdl( )"
     ],
     "language": "python",
     "metadata": {},
     "outputs": []
    },
    {
     "cell_type": "code",
     "collapsed": false,
     "input": [
      "## Fill missing obsevations\n",
      "data1 = fg.fill_missing( data0 )"
     ],
     "language": "python",
     "metadata": {},
     "outputs": []
    },
    {
     "cell_type": "code",
     "collapsed": false,
     "input": [
      "## Inital partition is based on hierarchical aglomerative clustering\n",
      "R0 = ini.hierarchical( data1, num_classes = 5, method = 'single' )\n",
      "print R0\n",
      "I3 = crit.criterion( data1, crit.sim_ratio )\n",
      "mlocal = mloc.m_local( I3 )\n",
      "# print I3.evaluate( R0 )\n",
      "mlocal( R0, m = 10 )\n",
      "# print R0"
     ],
     "language": "python",
     "metadata": {},
     "outputs": []
    },
    {
     "cell_type": "code",
     "collapsed": false,
     "input": [
      "## Inital partition is based on hierarchical aglomerative clustering\n",
      "R0 = ini.hierarchical( data1, num_classes = 5, method = 'single' )\n",
      "print R0\n",
      "crt = algo.partition_criterion( data1 )\n",
      "I0 = crt( R0 )\n",
      "print I0\n",
      "sloc = algo.s_local( data1, crt )\n",
      "I1 = sloc.m_local( R0, 10 )\n",
      "print I1\n",
      "print R0"
     ],
     "language": "python",
     "metadata": {},
     "outputs": []
    },
    {
     "cell_type": "code",
     "collapsed": false,
     "input": [
      "## Count the classes\n",
      "K = 5\n",
      "## Construct the initial partition\n",
      "    algo.initial_partition_hier()\n",
      "## Run the m-local clusterisation procedure\n",
      "\n",
      "## \u041f\u043e\u043b\u0443\u0447\u0430\u0435\u043c \u0434\u0430\u043d\u043d\u044b\u0435 \u0438\u0437 \u0431\u0430\u0437\u044b\n",
      "data_id, data_raw = get_dataset( name = user_params[ \"dataset\" ] )\n",
      "## \u041e\u0431\u0440\u0430\u0431\u0430\u0442\u044b\u0432\u0430\u0435\u043c \u0447\u0438\u0441\u043b\u043e\u0432\u044b\u0435 \u0434\u0430\u043d\u043d\u044b\u0435 \u0430\u043b\u0433\u043e\u0440\u0438\u0442\u043c\u0430\u043c\u0438\n",
      "## \u041f\u043e\u043f\u043e\u043b\u043d\u044f\u0435\u043c \u043f\u0440\u043e\u043f\u0443\u0441\u043a\u0438\n",
      "data = fill_missing( data_raw, **user_params )\n",
      "## \u0421\u0447\u0438\u0442\u0430\u0435\u043c \u043a\u043b\u0430\u0441\u0441\u044b\n",
      "class_number = count_classes( data, **user_params )\n",
      "## \u0412\u044b\u0431\u0438\u0440\u0430\u0435\u043c \u043d\u0430\u0447\u0430\u043b\u044c\u043d\u043e\u0435 \u0440\u0430\u0437\u0431\u0438\u0435\u043d\u0438\u0435\n",
      "class_seed = seed( data, class_number, **user_params )\n",
      "## \u041a\u043b\u0430\u0441\u0442\u0435\u0440\u0438\u0437\u0443\u0435\u043c\n",
      "result = cluster( data, class_number, class_seed )"
     ],
     "language": "python",
     "metadata": {},
     "outputs": []
    },
    {
     "cell_type": "code",
     "collapsed": false,
     "input": [],
     "language": "python",
     "metadata": {},
     "outputs": []
    }
   ],
   "metadata": {}
  }
 ]
}